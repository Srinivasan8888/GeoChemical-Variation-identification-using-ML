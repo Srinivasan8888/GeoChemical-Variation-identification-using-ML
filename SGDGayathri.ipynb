{
 "cells": [
  {
   "cell_type": "code",
   "execution_count": 1,
   "id": "6f42dc23",
   "metadata": {},
   "outputs": [],
   "source": [
    "import pandas as pd\n",
    "from sklearn.model_selection import train_test_split\n",
    "from sklearn.metrics import accuracy_score\n",
    "from sklearn.linear_model import SGDClassifier\n",
    "import sklearn.metrics\n",
    "import numpy as np"
   ]
  },
  {
   "cell_type": "code",
   "execution_count": 2,
   "id": "1b99abfe",
   "metadata": {},
   "outputs": [],
   "source": [
    "datas = pd.read_csv(open(\"C:\\\\Users\\\\prasa\\\\OneDrive\\\\Desktop\\\\SET\\\\rock.csv\"))"
   ]
  },
  {
   "cell_type": "code",
   "execution_count": 3,
   "id": "7f977cee",
   "metadata": {},
   "outputs": [],
   "source": [
    "predictors = datas.values[:, 0:11]\n",
    "targets = datas.values[:,12]\n",
    "\n",
    "\n",
    "pred_train, pred_test, targ_train, targ_test = train_test_split(predictors, targets, test_size=0.33)\n",
    "sgd= SGDClassifier(loss='hinge', shuffle=True, random_state=31)\n",
    "sgd.fit(pred_train,targ_train)\n",
    "pred = sgd.predict(pred_test)"
   ]
  },
  {
   "cell_type": "code",
   "execution_count": 4,
   "id": "bb1d6e3c",
   "metadata": {},
   "outputs": [
    {
     "name": "stdout",
     "output_type": "stream",
     "text": [
      "Accuracy is 0.8303030303030303\n",
      "Classification error is 0.16969696969696968\n"
     ]
    },
    {
     "data": {
      "text/plain": [
       "<BarContainer object of 2 artists>"
      ]
     },
     "execution_count": 4,
     "metadata": {},
     "output_type": "execute_result"
    },
    {
     "data": {
      "image/png": "[encoded data removed]",
      "text/plain": [
       "<Figure size 720x360 with 1 Axes>"
      ]
     },
     "metadata": {
      "needs_background": "light"
     },
     "output_type": "display_data"
    }
   ],
   "source": [
    "#accuracy\n",
    "print(\"Accuracy is\",accuracy_score(targ_test, pred, normalize = True))\n",
    "#classification error\n",
    "print(\"Classification error is\",1- accuracy_score(targ_test, pred, normalize = True))\n",
    "\n",
    "results =[]\n",
    "results.append(accuracy_score(targ_test, pred, normalize = True))\n",
    "classification = 1 - accuracy_score(targ_test, pred, normalize = True)\n",
    "results.append(classification)\n",
    "\n",
    "\n",
    "list2 = [\"accuracy\" , \"classifiacation\"]\n",
    "import matplotlib.pyplot as plt\n",
    "fig = plt.figure(figsize = (10, 5))\n",
    "plt.bar(list2 , results )"
   ]
  },
  {
   "cell_type": "code",
   "execution_count": null,
   "id": "007f665a",
   "metadata": {},
   "outputs": [],
   "source": []
  },
  {
   "cell_type": "code",
   "execution_count": null,
   "id": "d89c07f3",
   "metadata": {},
   "outputs": [],
   "source": []
  },
  {
   "cell_type": "code",
   "execution_count": null,
   "id": "763a4433",
   "metadata": {},
   "outputs": [],
   "source": []
  }
 ],
 "metadata": {
  "kernelspec": {
   "display_name": "Python 3 (ipykernel)",
   "language": "python",
   "name": "python3"
  },
  "language_info": {
   "codemirror_mode": {
    "name": "ipython",
    "version": 3
   },
   "file_extension": ".py",
   "mimetype": "text/x-python",
   "name": "python",
   "nbconvert_exporter": "python",
   "pygments_lexer": "ipython3",
   "version": "3.9.7"
  }
 },
 "nbformat": 4,
 "nbformat_minor": 5
}
