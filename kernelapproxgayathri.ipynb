{
 "cells": [
  {
   "cell_type": "code",
   "execution_count": 9,
   "id": "638c7c26",
   "metadata": {},
   "outputs": [],
   "source": [
    "import pandas as pd\n",
    "from sklearn import svm\n",
    "from sklearn.model_selection import train_test_split\n",
    "from sklearn.metrics import accuracy_score\n",
    "import sklearn.metrics\n",
    "import numpy as np\n",
    "from sklearn.kernel_approximation import RBFSampler\n",
    "from sklearn.linear_model import SGDClassifier"
   ]
  },
  {
   "cell_type": "code",
   "execution_count": 10,
   "id": "17204455",
   "metadata": {},
   "outputs": [],
   "source": [
    "df= pd.read_csv(open(\"C:\\\\Users\\\\prasa\\\\OneDrive\\\\Desktop\\\\SET\\\\rock.csv\"))\n"
   ]
  },
  {
   "cell_type": "code",
   "execution_count": 11,
   "id": "e937f967",
   "metadata": {},
   "outputs": [],
   "source": [
    "predictors = df.values[:, 0:11]\n",
    "targets = df.values[:,12]\n",
    "\n",
    "\n",
    "pred_train, pred_test, targ_train, targ_test = train_test_split(predictors, targets, test_size=0.2)"
   ]
  },
  {
   "cell_type": "code",
   "execution_count": 12,
   "id": "b981fe41",
   "metadata": {},
   "outputs": [],
   "source": [
    "features = list(df.columns[:11])"
   ]
  },
  {
   "cell_type": "code",
   "execution_count": 13,
   "id": "1a345702",
   "metadata": {},
   "outputs": [
    {
     "name": "stderr",
     "output_type": "stream",
     "text": [
      "C:\\Users\\prasa\\anaconda3\\lib\\site-packages\\sklearn\\linear_model\\_stochastic_gradient.py:696: ConvergenceWarning: Maximum number of iteration reached before convergence. Consider increasing max_iter to improve the fit.\n",
      "  warnings.warn(\n"
     ]
    }
   ],
   "source": [
    "rbf_feature = RBFSampler(gamma=1, random_state=1)\n",
    "X_features = rbf_feature.fit_transform(predictors)\n",
    "clf = SGDClassifier(max_iter=5)\n",
    "clf.fit(X_features, targets)\n",
    "SGDClassifier(max_iter=5)\n",
    "pred=clf.score(X_features, targets)"
   ]
  },
  {
   "cell_type": "code",
   "execution_count": 17,
   "id": "2a482c07",
   "metadata": {},
   "outputs": [
    {
     "name": "stdout",
     "output_type": "stream",
     "text": [
      "Accuracy is 0.8165\n",
      "Classification error is 0.1835\n"
     ]
    }
   ],
   "source": [
    "#accuracy\n",
    "print(\"Accuracy is\",pred)\n",
    "#classification error\n",
    "print(\"Classification error is\",1-pred)\n",
    "\n",
    "\n",
    "\n",
    "results =[]\n",
    "accuracy=pred\n",
    "results.append(accuracy)\n",
    "classification = 1 - accuracy\n",
    "results.append(classification)\n",
    "\n",
    "\n",
    "\n",
    "\n",
    "list2 = [\"accuracy\" , \"classification\"]"
   ]
  },
  {
   "cell_type": "code",
   "execution_count": 19,
   "id": "d18327d5",
   "metadata": {},
   "outputs": [
    {
     "data": {
      "text/plain": [
       "<BarContainer object of 2 artists>"
      ]
     },
     "execution_count": 19,
     "metadata": {},
     "output_type": "execute_result"
    },
    {
     "data": {
      "image/png": "[encoded data removed]",
      "text/plain": [
       "<Figure size 360x360 with 1 Axes>"
      ]
     },
     "metadata": {
      "needs_background": "light"
     },
     "output_type": "display_data"
    }
   ],
   "source": [
    "import matplotlib.pyplot as plt\n",
    "fig = plt.figure(figsize = (5, 5))\n",
    "plt.bar(list2 , results )"
   ]
  },
  {
   "cell_type": "code",
   "execution_count": null,
   "id": "f04c95d5",
   "metadata": {},
   "outputs": [],
   "source": []
  },
  {
   "cell_type": "code",
   "execution_count": null,
   "id": "a634b098",
   "metadata": {},
   "outputs": [],
   "source": []
  }
 ],
 "metadata": {
  "kernelspec": {
   "display_name": "Python 3 (ipykernel)",
   "language": "python",
   "name": "python3"
  },
  "language_info": {
   "codemirror_mode": {
    "name": "ipython",
    "version": 3
   },
   "file_extension": ".py",
   "mimetype": "text/x-python",
   "name": "python",
   "nbconvert_exporter": "python",
   "pygments_lexer": "ipython3",
   "version": "3.9.7"
  }
 },
 "nbformat": 4,
 "nbformat_minor": 5
}
