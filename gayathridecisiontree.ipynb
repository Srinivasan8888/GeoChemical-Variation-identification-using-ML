{
 "cells": [
  {
   "cell_type": "code",
   "execution_count": 51,
   "id": "97a22cc1",
   "metadata": {},
   "outputs": [],
   "source": [
    "import time\n",
    "import graphviz\n",
    "import pandas as pd\n",
    "\n",
    "from sklearn.ensemble import BaggingClassifier\n",
    "from sklearn.model_selection import train_test_split\n",
    "from sklearn.tree import DecisionTreeClassifier, export_graphviz\n",
    "import sklearn.metrics\n",
    "from sklearn import tree\n",
    "from sklearn.metrics import accuracy_score\n",
    "\n",
    "start_time = time.time()"
   ]
  },
  {
   "cell_type": "code",
   "execution_count": 52,
   "id": "8e28db8f",
   "metadata": {},
   "outputs": [],
   "source": [
    "import pandas as pd\n",
    "from sklearn import svm\n",
    "from sklearn.model_selection import train_test_split\n",
    "from sklearn.metrics import accuracy_score\n",
    "import sklearn.metrics\n",
    "import numpy as np"
   ]
  },
  {
   "cell_type": "code",
   "execution_count": 53,
   "id": "79901bc9",
   "metadata": {},
   "outputs": [],
   "source": [
    "df = pd.read_csv(open(\"C:\\\\Users\\\\acer\\\\OneDrive\\\\Desktop\\\\rock.csv\"))"
   ]
  },
  {
   "cell_type": "code",
   "execution_count": null,
   "id": "0d2812a9",
   "metadata": {},
   "outputs": [],
   "source": []
  },
  {
   "cell_type": "code",
   "execution_count": 54,
   "id": "a3f20e87",
   "metadata": {},
   "outputs": [],
   "source": [
    "predictors = df.values[:, 0:11]\n",
    "targets = df.values[:,11]\n",
    "\n",
    "pred_train, pred_test, tar_train, tar_test = train_test_split(predictors, targets, test_size= 0.33)"
   ]
  },
  {
   "cell_type": "code",
   "execution_count": 55,
   "id": "f512e112",
   "metadata": {},
   "outputs": [
    {
     "name": "stdout",
     "output_type": "stream",
     "text": [
      "(1340, 11)\n",
      "(660, 11)\n",
      "(1340,)\n",
      "(660,)\n"
     ]
    }
   ],
   "source": [
    "print(pred_train.shape)\n",
    "print(pred_test.shape)\n",
    "print(tar_train.shape)\n",
    "print(tar_test.shape)"
   ]
  },
  {
   "cell_type": "code",
   "execution_count": 56,
   "id": "60382960",
   "metadata": {},
   "outputs": [],
   "source": [
    "features = list(df.columns[:9])"
   ]
  },
  {
   "cell_type": "code",
   "execution_count": 57,
   "id": "b21109c9",
   "metadata": {},
   "outputs": [],
   "source": [
    "classifier = DecisionTreeClassifier(criterion = \"gini\", random_state = 21, splitter='best')\n",
    "classifier = classifier.fit(pred_train,tar_train)\n",
    "pred = classifier.predict(pred_test)"
   ]
  },
  {
   "cell_type": "code",
   "execution_count": 58,
   "id": "9453ed1b",
   "metadata": {},
   "outputs": [
    {
     "name": "stdout",
     "output_type": "stream",
     "text": [
      "[[461  57  17   1   1]\n",
      " [ 60  24   8   0   1]\n",
      " [ 19   3   1   0   0]\n",
      " [  6   0   0   0   0]\n",
      " [  1   0   0   0   0]]\n",
      "accuracy of training dataset is1.00\n",
      "accuracy of test dataset is 0.74\n",
      "Error rate is 0.26363636363636367\n",
      "sensitivity is 0.7363636363636363\n",
      "specificity is 0.26363636363636367\n"
     ]
    }
   ],
   "source": [
    "print(sklearn.metrics.confusion_matrix(tar_test, pred))\n",
    "\n",
    "#classification accuracy\n",
    "print(\"accuracy of training dataset is{:.2f}\".format(classifier.score(pred_train,tar_train)))\n",
    "print(\"accuracy of test dataset is {:.2f}\".format(classifier.score(pred_test,tar_test)))\n",
    "#print(accuracy_score(tar_test, predictions, normalize = True))\n",
    "\n",
    "#error rate\n",
    "print(\"Error rate is\",1- accuracy_score(tar_test, pred, normalize = True))\n",
    "\n",
    "#sensitivity\n",
    "print(\"sensitivity is\", sklearn.metrics.recall_score(tar_test, pred,labels=None, average =  'micro', sample_weight=None))\n",
    "#specificity\n",
    "print(\"specificity is\", 1 - sklearn.metrics.recall_score(tar_test, pred,labels=None, average =  'micro', sample_weight=None))\n",
    "\n",
    "#precision\n",
    "#print(\"precision is\",sklearn.metrics.precision_score(tar_test, predictions, labels=None, pos_label=1, average =  'micro' ,sample_weight=None))\n",
    "\n",
    "#Recall\n",
    "\n",
    "\n",
    "#time to execute\n",
    "#print(\"time elapsed: {:.2f}s\".format(time.time() - start_time))\n",
    "results =[]\n",
    "results.append(accuracy_score(tar_test, pred, normalize = True))\n",
    "classification = 1 - accuracy_score(tar_test, pred, normalize = True)\n",
    "results.append(classification)\n",
    "sensi = sklearn.metrics.recall_score(tar_test, pred, labels=None, average =  'micro', sample_weight=None)\n",
    "results.append(sensi)\n",
    "\n",
    "specificity = 1 - sensi\n",
    "results.append(specificity)\n",
    "\n",
    "list2 = [\"accuracy\" , \"classifiacation\" , \"sensi\" , \"speci\"]"
   ]
  },
  {
   "cell_type": "code",
   "execution_count": 59,
   "id": "1dd4b82e",
   "metadata": {
    "scrolled": true
   },
   "outputs": [
    {
     "data": {
      "text/plain": [
       "<BarContainer object of 4 artists>"
      ]
     },
     "execution_count": 59,
     "metadata": {},
     "output_type": "execute_result"
    },
    {
     "data": {
      "image/png": "[encoded data removed]",
      "text/plain": [
       "<Figure size 1440x720 with 1 Axes>"
      ]
     },
     "metadata": {
      "needs_background": "light"
     },
     "output_type": "display_data"
    }
   ],
   "source": [
    "import matplotlib.pyplot as plt\n",
    "\n",
    "\n",
    "fig = plt.figure(figsize = (20, 10))\n",
    "plt.bar(list2 , results )"
   ]
  },
  {
   "cell_type": "code",
   "execution_count": null,
   "id": "3cfebe08",
   "metadata": {},
   "outputs": [],
   "source": []
  },
  {
   "cell_type": "code",
   "execution_count": null,
   "id": "740fff67",
   "metadata": {},
   "outputs": [],
   "source": []
  },
  {
   "cell_type": "code",
   "execution_count": null,
   "id": "4dddad10",
   "metadata": {},
   "outputs": [],
   "source": []
  },
  {
   "cell_type": "code",
   "execution_count": null,
   "id": "5277d1fb",
   "metadata": {},
   "outputs": [],
   "source": []
  }
 ],
 "metadata": {
  "kernelspec": {
   "display_name": "Python 3 (ipykernel)",
   "language": "python",
   "name": "python3"
  },
  "language_info": {
   "codemirror_mode": {
    "name": "ipython",
    "version": 3
   },
   "file_extension": ".py",
   "mimetype": "text/x-python",
   "name": "python",
   "nbconvert_exporter": "python",
   "pygments_lexer": "ipython3",
   "version": "3.10.2"
  }
 },
 "nbformat": 4,
 "nbformat_minor": 5
}
